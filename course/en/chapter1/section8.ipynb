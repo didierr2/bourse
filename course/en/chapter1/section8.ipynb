{
  "cells": [
    {
      "cell_type": "markdown",
      "metadata": {
        "id": "view-in-github",
        "colab_type": "text"
      },
      "source": [
        "<a href=\"https://colab.research.google.com/github/didierr2/bourse/blob/master/course/en/chapter1/section8.ipynb\" target=\"_parent\"><img src=\"https://colab.research.google.com/assets/colab-badge.svg\" alt=\"Open In Colab\"/></a>"
      ]
    },
    {
      "cell_type": "markdown",
      "metadata": {
        "id": "vNXNOErQC9Vk"
      },
      "source": [
        "# Bias and limitations"
      ]
    },
    {
      "cell_type": "markdown",
      "metadata": {
        "id": "dlP9cuFDC9Vn"
      },
      "source": [
        "Install the Transformers, Datasets, and Evaluate libraries to run this notebook."
      ]
    },
    {
      "cell_type": "code",
      "execution_count": null,
      "metadata": {
        "id": "XUaYIAB8C9Vn"
      },
      "outputs": [],
      "source": [
        "!pip install datasets evaluate transformers[sentencepiece]"
      ]
    },
    {
      "cell_type": "code",
      "execution_count": null,
      "metadata": {
        "id": "GfQZTvYZC9Vo",
        "outputId": "778cf215-6dbb-4ac3-efff-51017b4ba236"
      },
      "outputs": [
        {
          "data": {
            "text/plain": [
              "['lawyer', 'carpenter', 'doctor', 'waiter', 'mechanic']\n",
              "['nurse', 'waitress', 'teacher', 'maid', 'prostitute']"
            ]
          },
          "execution_count": null,
          "metadata": {},
          "output_type": "execute_result"
        }
      ],
      "source": [
        "from transformers import pipeline\n",
        "\n",
        "unmasker = pipeline(\"fill-mask\", model=\"bert-base-uncased\")\n",
        "result = unmasker(\"This man works as a [MASK].\")\n",
        "print([r[\"token_str\"] for r in result])\n",
        "\n",
        "result = unmasker(\"This woman works as a [MASK].\")\n",
        "print([r[\"token_str\"] for r in result])"
      ]
    }
  ],
  "metadata": {
    "colab": {
      "name": "Bias and limitations",
      "provenance": [],
      "include_colab_link": true
    }
  },
  "nbformat": 4,
  "nbformat_minor": 0
}